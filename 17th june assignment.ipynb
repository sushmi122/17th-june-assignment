{
 "cells": [
  {
   "cell_type": "code",
   "execution_count": null,
   "id": "49bf8f30-8559-46c6-a8ca-078325dd3669",
   "metadata": {},
   "outputs": [],
   "source": [
    "1. What is the role of try and exception block?\n",
    "\n",
    "The try-except block is used to handle exceptions or errors that may occur during the execution of a program.\n",
    "It allows you to write code that can anticipate and handle potential errors gracefully, preventing the \n",
    "program from crashing and allowing you to provide alternative actions or error handling mechanisms.\n"
   ]
  },
  {
   "cell_type": "code",
   "execution_count": 1,
   "id": "06431f0d-a424-482e-b94b-8b9cecf187c2",
   "metadata": {},
   "outputs": [
    {
     "name": "stdout",
     "output_type": "stream",
     "text": [
      "Some issue with x\n"
     ]
    }
   ],
   "source": [
    "#2. What is the syntax for a basic try-except block?\n",
    "\n",
    "# The syntax for a basic try-except block in Python is \n",
    "\n",
    "try:\n",
    "    # Code that might raise an exception\n",
    "    # ...\n",
    "except ExceptionType:\n",
    "    # Code to handle the exception\n",
    "    # ..."
   ]
  },
  {
   "cell_type": "code",
   "execution_count": null,
   "id": "68c2de7a-c934-404a-9186-27af221f5e31",
   "metadata": {},
   "outputs": [],
   "source": [
    "3.What happens if an exception occurs inside a try block and there is no matching\n",
    "except block?\n",
    "\n",
    "If an exception occurs inside a try block and there is no matching except block to handle that specific \n",
    "exception type, the exception will propagate up the call stack. This means that the program will terminate, \n",
    "and the default exception handling mechanism of the programming language will come into play. Typically, this \n",
    "results in an error message being displayed, and the program execution is halted.\n",
    "\n",
    "When an exception is not caught and handled by an except block, it is considered an unhandled exception. The \n",
    "default behavior of most programming languages is to print an error message, including the type of the \n",
    "exception, a description of the error, and the traceback information. The traceback shows the sequence of \n",
    "function calls that led to the point where the exception occurred, allowing developers to trace the error \n",
    "back to its origin.\n",
    "\n",
    "Unhandled exceptions can cause the program to crash abruptly and may lead to unexpected behavior. They can \n",
    "also make it challenging to identify and fix issues in the code. It is generally recommended to handle \n",
    "exceptions appropriately by providing matching except blocks to catch and handle specific exception types. \n",
    "This allows for controlled error handling and the ability to provide customized error messages or recovery \n",
    "mechanisms based on the specific exception type."
   ]
  },
  {
   "cell_type": "code",
   "execution_count": null,
   "id": "fcad6471-726b-44d8-9a55-5d484680c848",
   "metadata": {},
   "outputs": [],
   "source": [
    "4. What is the difference between using a bare except block and specifying a specific\n",
    "exception type?\n",
    "\n",
    "\n",
    "Bare except block:\n",
    "\n",
    "Syntax: except: (without specifying any particular exception type)\n",
    "Effect: Catches and handles all types of exceptions.\n",
    "Pros: Convenient for capturing unexpected exceptions and preventing program crashes.\n",
    "Cons: Makes it harder to identify specific issues, can hide important exceptions, and may lead to less \n",
    "precise error handling.\n",
    "\n",
    "Specific exception type:\n",
    "    \n",
    "Syntax: except ExceptionType: (e.g., except ValueError:)\n",
    "Effect: Catches and handles only the specified exception type.\n",
    "Pros: Enables precise exception handling and better control over program behavior.\n",
    "Cons: Requires identifying and specifying relevant exception types, and unhandled exceptions of other types \n",
    "can still occur."
   ]
  },
  {
   "cell_type": "code",
   "execution_count": 12,
   "id": "87b95f85-489e-4d97-9e48-5d0b7f0301a3",
   "metadata": {},
   "outputs": [
    {
     "name": "stdout",
     "output_type": "stream",
     "text": [
      "Error: Division by zero\n",
      "Error: Invalid conversion\n"
     ]
    }
   ],
   "source": [
    "#5. Can you have nested try-except blocks in Python? If yes, then give an example.\n",
    "\n",
    "#'''Yes, nested try-except blocks are allowed in Python. This means you can have a try block within another \n",
    "#try block, and each try block can have its corresponding except block. \n",
    "#example:'''\n",
    "try:\n",
    "    outer_variable = 10 / 0  \n",
    "except ZeroDivisionError:\n",
    "    print(\"Error: Division by zero\")\n",
    "    try:\n",
    "        inner_variable = int(\"abc\")  \n",
    "    except ValueError:\n",
    "        print(\"Error: Invalid conversion\")"
   ]
  },
  {
   "cell_type": "code",
   "execution_count": null,
   "id": "f79627bd-fc27-4771-85dc-b632aa7df95a",
   "metadata": {},
   "outputs": [],
   "source": [
    "6.Can we use multiple exception blocks, if yes then give an example.\n",
    "\n",
    "# Yes, it is possible to use multiple except blocks to handle different types of exceptions:\n",
    "'''\n",
    "try:\n",
    "    # Code that may raise exceptions\n",
    "    # ...\n",
    "except ValueError:\n",
    "    # Code to handle ValueError\n",
    "    # ...\n",
    "except FileNotFoundError:\n",
    "    # Code to handle FileNotFoundError\n",
    "    # ...\n",
    "except:\n",
    "    # Code to handle any other exception\n",
    "    # ...\n",
    "'''"
   ]
  },
  {
   "cell_type": "code",
   "execution_count": null,
   "id": "358143a8-6662-4388-ad55-c830e3da9b7e",
   "metadata": {},
   "outputs": [],
   "source": [
    "7. Write the reason due to which following errors are raised:\n",
    "    \n",
    "a. EOFError:Raised when the input() function hits an end-of-file condition (EOF).\n",
    "b. FloatingPointError:Raised when a floating point operation fails.\n",
    "c. IndexError:Raised when a sequence subscript (index) is out of range.\n",
    "d. MemoryError:Raised when an operation runs out of memory.\n",
    "e. OverflowError:Raised when the result of an arithmetic operation is too large to be expressed.\n",
    "f. TabError:Raised when indentation contains mixed tabs and spaces.\n",
    "g. ValueError:Raised when a built-in operation or function receives an argument that has the right type but an inappropriate value."
   ]
  },
  {
   "cell_type": "code",
   "execution_count": 4,
   "id": "48501412-751d-4e2e-94bd-e220364c2580",
   "metadata": {},
   "outputs": [
    {
     "name": "stdout",
     "output_type": "stream",
     "text": [
      "Error: Denominator cannot be 0.\n"
     ]
    }
   ],
   "source": [
    "#8.Write code for the following given scenario and add try-exception block to it.\n",
    "\n",
    "#a. Program to divide two numbers\n",
    "\n",
    "try:\n",
    "    numerator = 10\n",
    "    denominator = 0\n",
    "\n",
    "    result = numerator/denominator\n",
    "\n",
    "    print(result)\n",
    "except:\n",
    "    print(\"Error: Denominator cannot be 0.\")"
   ]
  },
  {
   "cell_type": "code",
   "execution_count": 7,
   "id": "2ab33113-3f40-4af2-bd55-3c499f7babdf",
   "metadata": {},
   "outputs": [
    {
     "name": "stdout",
     "output_type": "stream",
     "text": [
      "100\n"
     ]
    }
   ],
   "source": [
    "#b. Program to convert a string to an integer\n",
    "\n",
    "try:\n",
    "    x = \"100\"\n",
    "    print(int(x))\n",
    "except:\n",
    "    print(\"you can't change it \")\n"
   ]
  },
  {
   "cell_type": "code",
   "execution_count": 9,
   "id": "83649305-79ea-4c23-9ffa-38ff1a97e6d6",
   "metadata": {},
   "outputs": [
    {
     "name": "stdout",
     "output_type": "stream",
     "text": [
      "index of 6 is not present in the list\n"
     ]
    }
   ],
   "source": [
    "#c.Program to access an element in a list\n",
    "\n",
    "try:\n",
    "    x = [1,2,3,4,5]\n",
    "    print(index[6])\n",
    "except:\n",
    "    print(\"index of 6 is not present in the list\")\n",
    "\n"
   ]
  },
  {
   "cell_type": "code",
   "execution_count": 14,
   "id": "6faa22e6-1081-437c-9f56-987685b93b09",
   "metadata": {},
   "outputs": [
    {
     "name": "stdin",
     "output_type": "stream",
     "text": [
      "Enter a number:  10\n"
     ]
    },
    {
     "name": "stdout",
     "output_type": "stream",
     "text": [
      "Result: 1.0\n"
     ]
    }
   ],
   "source": [
    "#d. Program to handle a specific exception\n",
    "\n",
    "try:\n",
    "    num = int(input(\"Enter a number: \"))\n",
    "    result = 10 / num\n",
    "    print(\"Result:\", result)\n",
    "except ZeroDivisionError:\n",
    "    print(\"Error: Division by zero\")\n"
   ]
  },
  {
   "cell_type": "code",
   "execution_count": 13,
   "id": "e9e41fe5-fbe8-4466-8627-e01495a747ae",
   "metadata": {},
   "outputs": [
    {
     "name": "stdin",
     "output_type": "stream",
     "text": [
      "Enter the first number:  1\n",
      "Enter the second number:  2\n"
     ]
    },
    {
     "name": "stdout",
     "output_type": "stream",
     "text": [
      "Result: 0.5\n"
     ]
    }
   ],
   "source": [
    "e. Program to handle any exception:\n",
    "\n",
    "try:\n",
    "    # Code that may raise exceptions\n",
    "    num1 = int(input(\"Enter the first number: \"))\n",
    "    num2 = int(input(\"Enter the second number: \"))\n",
    "    result = num1 / num2\n",
    "    print(\"Result:\", result)\n",
    "except Exception as e:\n",
    "    print(\"An error occurred:\", str(e))\n"
   ]
  },
  {
   "cell_type": "code",
   "execution_count": null,
   "id": "93a8621b-5273-4603-b04e-754e5617e90e",
   "metadata": {},
   "outputs": [],
   "source": []
  }
 ],
 "metadata": {
  "kernelspec": {
   "display_name": "Python 3 (ipykernel)",
   "language": "python",
   "name": "python3"
  },
  "language_info": {
   "codemirror_mode": {
    "name": "ipython",
    "version": 3
   },
   "file_extension": ".py",
   "mimetype": "text/x-python",
   "name": "python",
   "nbconvert_exporter": "python",
   "pygments_lexer": "ipython3",
   "version": "3.10.6"
  }
 },
 "nbformat": 4,
 "nbformat_minor": 5
}
